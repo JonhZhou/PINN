{
 "cells": [
  {
   "cell_type": "code",
   "execution_count": null,
   "metadata": {},
   "outputs": [
    {
     "name": "stdout",
     "output_type": "stream",
     "text": [
      "The neural network will be trainied on cuda\n"
     ]
    }
   ],
   "source": [
    "import torch                           # Pytorch\n",
    "import torch.autograd as autograd      # computation graph\n",
    "from torch import Tensor               \n",
    "import torch.nn as nn                  # neural networks\n",
    "import torch.optim as optim            # optimizers \n",
    "import matplotlib.pyplot as plt\n",
    "from mpl_toolkits.mplot3d import Axes3D\n",
    "from matplotlib import cm\n",
    "from matplotlib.ticker import LinearLocator, FormatStrFormatter\n",
    "import scipy.io\n",
    "import numpy as np\n",
    "import time\n",
    "from tqdm import tqdm\n",
    "import pandas as pd\n",
    "from collections import OrderedDict\n",
    "from scipy.interpolate import griddata\n",
    "from mpl_toolkits.axes_grid1 import make_axes_locatable\n",
    "import matplotlib.gridspec as gridspec\n",
    "import math\n",
    "from pyDOE import lhs\n",
    "import time, sys\n",
    "#Set default dtype to float32\n",
    "torch.set_default_dtype(torch.float)\n",
    "\n",
    "#PyTorch random number generator\n",
    "torch.manual_seed(1234)\n",
    "\n",
    "# Random number generators in other libraries\n",
    "np.random.seed(1234)\n",
    "\n",
    "# Device configuration\n",
    "device = torch.device('cuda' if torch.cuda.is_available() else 'cgpu')\n",
    "\n",
    "print(\"The neural network will be trainied on\",device)\n",
    "\n",
    "if device == 'cuda': \n",
    "    print(torch.cuda.get_device_name())\n",
    "\n",
    "viscosity=0.01/np.pi"
   ]
  },
  {
   "cell_type": "code",
   "execution_count": 234,
   "metadata": {},
   "outputs": [],
   "source": [
    "def plot3D(x,t,y):\n",
    "    x_plot =x.squeeze(1) \n",
    "    t_plot =t.squeeze(1)\n",
    "    X,T= torch.meshgrid(x_plot,t_plot,indexing='ij')\n",
    "    u_xt = y\n",
    "    fig = plt.figure()\n",
    "    ax=fig.subplots(1,1)\n",
    "    cp = ax.contourf(T,X,u_xt,20,cmap=cm.rainbow) #)levels = np.linspace(-1.0,1.0,12))\n",
    "    fig.colorbar(cp) # Add a colorbar to a plot\n",
    "    ax.set_title('u')\n",
    "    ax.set_xlabel('t')\n",
    "    ax.set_ylabel('x')\n",
    "    plt.show()\n",
    "    ax = plt.axes(projection='3d')\n",
    "    surf = ax.plot_surface(T.numpy(), X.numpy(), u_xt.numpy(),cmap=cm.rainbow, antialiased=False)\n",
    "    ax.set_xlabel('t')\n",
    "    ax.set_ylabel('x')\n",
    "    ax.set_zlabel('u')\n",
    "    #ax.set_zlim3d(-1, 1)\n",
    "    plt.show()"
   ]
  },
  {
   "cell_type": "code",
   "execution_count": 235,
   "metadata": {},
   "outputs": [],
   "source": [
    "class u_NN(nn.Module):\n",
    "    \n",
    "    def __init__(self, layers_list):\n",
    "        \n",
    "        super().__init__()\n",
    "\n",
    "        self.depth = len(layers_list)\n",
    "\n",
    "        self.loss_function = nn.MSELoss(reduction=\"mean\") #定义损失函数\n",
    "    \n",
    "        self.activation = nn.Tanh() #不能用Relu函数\n",
    "\n",
    "        self.linears = nn.ModuleList([nn.Linear(layers_list[i],layers_list[i+1]) for i in range(self.depth-1)])\n",
    "\n",
    "        for i in range(self.depth-1):\n",
    "      \n",
    "          nn.init.xavier_normal_(self.linears[i].weight.data, gain=1.0) #初始化权重，缩放因子为1.0\n",
    "      \n",
    "          nn.init.zeros_(self.linears[i].bias.data) #偏执设置为0.0\n",
    "\n",
    "    def Convert(self, x): #辅助函数，将numpy数组转换为tensor\n",
    "        \n",
    "        if torch.is_tensor(x) !=True:\n",
    "            x = torch.from_numpy(x)\n",
    "        return x.float().to(device)\n",
    "  \n",
    "    def forward(self, x): #前向传播\n",
    "        \n",
    "        a = self.Convert(x)\n",
    "\n",
    "        for i in range(self.depth-2):\n",
    "            z = self.linears[i](a)\n",
    "            a = self.activation(z)\n",
    "        \n",
    "        a = self.linears[-1](a)\n",
    "\n",
    "        return a\n",
    "    def loss_ic(self,x_ic,u_ic):\n",
    "        l_ic = self.loss_function(self.forward(self.Convert(x_ic)), self.Convert(u_ic)) #L2 loss\n",
    "\n",
    "        return l_ic\n",
    "    def loss_bc(self,x_bc,u_bc):\n",
    "        l_bc = self.loss_function(self.forward(self.Convert(x_bc)), self.Convert(u_bc)) #L2 loss\n",
    "\n",
    "        return l_bc\n",
    "\n",
    "    def loss_inner(self, x_inner, u_inner):\n",
    "        #内部点的损失函数\n",
    "        l_inner = self.loss_function(self.forward(self.Convert(x_inner)), self.Convert(u_inner)) #L2 loss\n",
    "\n",
    "        return l_inner\n",
    "    \n",
    "    def loss_pde(self, x_pde):\n",
    "        #残差损失函数\n",
    "\n",
    "        x_pde = self.Convert(x_pde)\n",
    "\n",
    "        x_pde_clone = x_pde.clone() ##VERY IMPORTANT\n",
    "    \n",
    "        x_pde_clone.requires_grad = True #enable Auto Differentiation\n",
    "\n",
    "        NN = self.forward(x_pde_clone) #Generates predictions from u_NN\n",
    "\n",
    "        NNx_NNt = torch.autograd.grad(NN, x_pde_clone,self.Convert(torch.ones([x_pde_clone.shape[0],1])),retain_graph=True, create_graph=True)[0] #Jacobian of dx and dt\n",
    "\n",
    "        NNxx_NNtt = torch.autograd.grad(NNx_NNt,x_pde_clone, self.Convert(torch.ones(x_pde_clone.shape)), create_graph=True)[0] #Jacobian of dx2, dt2\n",
    "\n",
    "        NNxx = NNxx_NNtt[:,[0]] #Extract only dx2 terms\n",
    "\n",
    "        NNt = NNx_NNt[:,[1]] #Extract only dt terms\n",
    "\n",
    "        NNx = NNx_NNt[:,[0]] #Extract only dx terms\n",
    "    \n",
    "        # {(du/dt) = viscosity * (d2u/dx2)} is the pde and the NN residue will be {du_NN/dt - viscosity*(d2u_NN)/dx2} which is == {NNt - viscosity*NNxx}\n",
    "\n",
    "        residue = NNt + self.forward(x_pde_clone)*(NNx) - (viscosity)*NNxx \n",
    "\n",
    "        # The residues need to be zero (or as low as possible). We'll create an arrazy of Zeros and minimize the residue \n",
    "\n",
    "        zeros = self.Convert(torch.zeros(residue.shape[0],1))\n",
    "\n",
    "        l_pde = self.loss_function(residue, zeros) #L2 Loss\n",
    "\n",
    "        return l_pde\n",
    "    \n",
    "    def total_loss(self,x_ic,u_ic,x_bc,u_bc, x_pde): #Combine both loss\n",
    "        l_ic = self.loss_ic(x_ic,u_ic)\n",
    "        l_bc = self.loss_bc(x_bc,u_bc)\n",
    "        l_pde = self.loss_pde(x_pde)\n",
    "        #l_inner = self.loss_inner(x_inner, u_inner)\n",
    "        return l_ic+l_bc +  l_pde #+l_inner #this HAS to be a scalar value for auto differentiation to do its thing."
   ]
  },
  {
   "cell_type": "code",
   "execution_count": 236,
   "metadata": {},
   "outputs": [
    {
     "data": {
      "text/plain": [
       "((256, 2), (100, 2), (100, 2), (256, 1), (100, 1), (100, 1), (100, 256))"
      ]
     },
     "execution_count": 236,
     "metadata": {},
     "output_type": "execute_result"
    }
   ],
   "source": [
    "#边界点和内部点个数\n",
    "if __name__ == '__main__':\n",
    "    N_u = 100\n",
    "    N_f = 10000\n",
    "    \n",
    "    \n",
    "    #加载数据格式为t:100*1,x:256*1,usol:256*100\n",
    "    data = scipy.io.loadmat('burgers_shock.mat')\n",
    "\n",
    "    t = data['t'].flatten()[:, None] #将其转换为列向量\n",
    "    x = data['x'].flatten()[:, None]\n",
    "    Exact = np.real(data['usol']).T #100*256并提取实部\n",
    "\n",
    "    # 生成 x 和 t 的网格点\n",
    "    X, T = np.meshgrid(x, t)\n",
    "    #生成两个形状为 (len(t), len(x)) 的二维数组 X 和 T。X 的每一行对应 x 的所有元素，T 的每一列对应 t 的所有元素\n",
    "\n",
    "    # 将网格点展平并合并为一个二维数组，作为输入数据\n",
    "    X_star = np.hstack((X.flatten()[:, None], T.flatten()[:, None]))#flatten转化为一维数组再升维为列向量\n",
    "    #将 X 展开后的列向量和 T 展开后的列向量在列方向上拼接起来 (x_1,t_1;x_2,t_1;...) (100*256,2)\n",
    "    \n",
    "    u_star = Exact.flatten()[:, None] #将精确解其转换为列向量      \n",
    "\n",
    "    # 边界\n",
    "    lb = X_star.min(0) #取每一列的最小值 0是维度为行 1*2\n",
    "    ub = X_star.max(0)\n",
    "\n",
    "    # 提取 t = 0 ,x=-1,1边界的输入数据和精确解\n",
    "    xx1 = np.hstack((X[0:1, :].T, T[0:1, :].T))\n",
    "    uu1 = Exact[0:1, :].T  #100个时间点的第一行 t=0的所有x点\n",
    "\n",
    "    xx2 = np.hstack((X[:, 0:1], T[:, 0:1]))     # X = -1 \n",
    "    uu2 = Exact[:, 0:1]\n",
    "    xx3 = np.hstack((X[:, -1:], T[:, -1:]))     # X = 1 \n",
    "    uu3 = Exact[:, -1:]\n",
    "    \n",
    "    #xx_inner=np.hstack(X[])\n",
    "    #uu_inner=Exact[1:, 1:-1]\n",
    "xx1.shape,xx2.shape,xx3.shape,uu1.shape,uu2.shape,uu3.shape,Exact.shape#uu_inner.shape,xx_inner.shape\n"
   ]
  },
  {
   "cell_type": "code",
   "execution_count": 237,
   "metadata": {},
   "outputs": [
    {
     "name": "stdout",
     "output_type": "stream",
     "text": [
      "[0.81941485 0.44501308]\n"
     ]
    }
   ],
   "source": [
    "#Sampling (X,T) domain using LHS\n",
    "lhs_samples = lhs(2,N_f) \n",
    "#2 since there are 2 variables in X_train, [x,t]\n",
    "lhs_samples.shape\n",
    "print(lhs_samples[1])\n"
   ]
  },
  {
   "cell_type": "code",
   "execution_count": 238,
   "metadata": {},
   "outputs": [
    {
     "data": {
      "text/plain": [
       "((100, 2), (100, 1), (10456, 2))"
      ]
     },
     "execution_count": 238,
     "metadata": {},
     "output_type": "execute_result"
    }
   ],
   "source": [
    "#边界条件\n",
    "X_u_train_i=np.vstack([xx1,xx2])\n",
    "u_train_i=np.vstack([uu1,uu2])\n",
    "#初值条件\n",
    "X_u_train_b=xx3\n",
    "u_train_b=uu3\n",
    "\n",
    "X_u_train_IBc=np.vstack([X_u_train_i,X_u_train_b])\n",
    "u_train_IBc=np.vstack([u_train_i,u_train_b])\n",
    "\n",
    "# 合并边界条件数据点\n",
    "X_train_inner = lb + (ub-lb)*lhs_samples# 使用拉丁超立方抽样（LHS）生成内部数据点,二维数据点\n",
    "\n",
    "X_f_train = np.vstack((X_train_inner, X_u_train_IBc)) # 将边界条件数据点添加到内部数据点中,或许不应该加边界\n",
    "\n",
    "u_train = np.vstack([u_train_i, u_train_b]) # 合并所有边界条件的精确解\n",
    "    \n",
    "# 随机选择 N_u 个边界条件合并的数据点用于训练\n",
    "idx = np.random.choice(X_u_train_IBc.shape[0], N_u, replace=False)\n",
    "X_u_train = X_u_train_IBc[idx, :]\n",
    "u_train = u_train[idx, :]\n",
    "X_u_train.shape,u_train.shape,X_f_train.shape"
   ]
  },
  {
   "cell_type": "code",
   "execution_count": 239,
   "metadata": {},
   "outputs": [
    {
     "data": {
      "image/png": "[encoded data removed]",
      "text/plain": [
       "<Figure size 432x288 with 1 Axes>"
      ]
     },
     "metadata": {
      "needs_background": "light"
     },
     "output_type": "display_data"
    }
   ],
   "source": [
    "plt.plot(pd.DataFrame(X_train_inner)[0], \"bo\", markersize=.5)\n",
    "plt.title(\"LHS Sampling of X [-1,1]\")\n",
    "plt.show()"
   ]
  },
  {
   "cell_type": "code",
   "execution_count": 240,
   "metadata": {},
   "outputs": [
    {
     "data": {
      "image/png": "[encoded data removed]",
      "text/plain": [
       "<Figure size 432x288 with 1 Axes>"
      ]
     },
     "metadata": {
      "needs_background": "light"
     },
     "output_type": "display_data"
    }
   ],
   "source": [
    "plt.plot(pd.DataFrame(X_train_inner)[1], \"ro\", markersize=.5)\n",
    "plt.title(\"LHS Sampling of T [0,1]\")\n",
    "plt.show()"
   ]
  },
  {
   "cell_type": "code",
   "execution_count": 241,
   "metadata": {},
   "outputs": [
    {
     "data": {
      "text/plain": [
       "(10456, 2)"
      ]
     },
     "execution_count": 241,
     "metadata": {},
     "output_type": "execute_result"
    }
   ],
   "source": [
    "X_f_train.shape"
   ]
  },
  {
   "cell_type": "code",
   "execution_count": 242,
   "metadata": {},
   "outputs": [
    {
     "name": "stdout",
     "output_type": "stream",
     "text": [
      "u_NN(\n",
      "  (loss_function): MSELoss()\n",
      "  (activation): Tanh()\n",
      "  (linears): ModuleList(\n",
      "    (0): Linear(in_features=2, out_features=20, bias=True)\n",
      "    (1): Linear(in_features=20, out_features=20, bias=True)\n",
      "    (2): Linear(in_features=20, out_features=20, bias=True)\n",
      "    (3): Linear(in_features=20, out_features=20, bias=True)\n",
      "    (4): Linear(in_features=20, out_features=20, bias=True)\n",
      "    (5): Linear(in_features=20, out_features=20, bias=True)\n",
      "    (6): Linear(in_features=20, out_features=20, bias=True)\n",
      "    (7): Linear(in_features=20, out_features=20, bias=True)\n",
      "    (8): Linear(in_features=20, out_features=1, bias=True)\n",
      "  )\n",
      ")\n"
     ]
    }
   ],
   "source": [
    "EPOCHS = 100000\n",
    "initial_lr = 0.001\n",
    "layers_list = [2, 20, 20, 20, 20, 20, 20, 20, 20, 1]\n",
    "#batch_size = 32\n",
    "\n",
    "# Instantiate a model\n",
    "\n",
    "PINN = u_NN(layers_list).to(device)\n",
    "print(PINN)\n",
    "\n",
    "optimizer = torch.optim.Adam(PINN.parameters(), lr=initial_lr,amsgrad=False)\n",
    "\n",
    "scheduler = torch.optim.lr_scheduler.ExponentialLR(optimizer, gamma=0.985)\n",
    "\n",
    "history = pd.DataFrame(columns=[\"Epochs\",\"Learning_Rate\", \"IC_Loss\",\"BC_Loss\",\"PDE_Loss\",\"Total_Loss\",\"Test_Loss\"])"
   ]
  },
  {
   "cell_type": "code",
   "execution_count": 243,
   "metadata": {},
   "outputs": [
    {
     "name": "stdout",
     "output_type": "stream",
     "text": [
      "Training Physics Informed Neural Network...\n"
     ]
    },
    {
     "name": "stderr",
     "output_type": "stream",
     "text": [
      "  0%|          | 0/100000 [00:00<?, ?it/s]"
     ]
    },
    {
     "name": "stdout",
     "output_type": "stream",
     "text": [
      "Epoch \t Learning_Rate \t IC_Loss \t BC_Loss \t PDE_Loss \t Total_Loss \t Test_Loss\n",
      "0 \t 1.0000E-03 \t 2.6880E-01 \t 3.0081E-02 \t 7.6378E-02 \t 3.7526E-01 \t "
     ]
    },
    {
     "name": "stderr",
     "output_type": "stream",
     "text": [
      "  0%|          | 1/100000 [00:00<4:40:00,  5.95it/s]"
     ]
    },
    {
     "name": "stdout",
     "output_type": "stream",
     "text": [
      "3.2151E-01\n"
     ]
    },
    {
     "name": "stderr",
     "output_type": "stream",
     "text": [
      "  1%|          | 1003/100000 [00:51<1:33:20, 17.68it/s]"
     ]
    },
    {
     "name": "stdout",
     "output_type": "stream",
     "text": [
      "1000 \t 8.5973E-04 \t 2.0743E-02 \t 1.7264E-04 \t 1.6541E-02 \t 3.7457E-02 \t 3.7854E-02\n"
     ]
    },
    {
     "name": "stderr",
     "output_type": "stream",
     "text": [
      "  2%|▏         | 2003/100000 [01:39<1:15:44, 21.57it/s]"
     ]
    },
    {
     "name": "stdout",
     "output_type": "stream",
     "text": [
      "2000 \t 7.3914E-04 \t 2.6900E-03 \t 1.4112E-04 \t 4.7708E-03 \t 7.6019E-03 \t 5.7130E-03\n"
     ]
    },
    {
     "name": "stderr",
     "output_type": "stream",
     "text": [
      "  3%|▎         | 3005/100000 [02:20<1:07:57, 23.79it/s]"
     ]
    },
    {
     "name": "stdout",
     "output_type": "stream",
     "text": [
      "3000 \t 6.3546E-04 \t 1.1642E-03 \t 2.2085E-05 \t 1.6997E-03 \t 2.8861E-03 \t 4.1074E-03\n"
     ]
    },
    {
     "name": "stderr",
     "output_type": "stream",
     "text": [
      "  4%|▍         | 4004/100000 [03:04<1:17:51, 20.55it/s]"
     ]
    },
    {
     "name": "stdout",
     "output_type": "stream",
     "text": [
      "4000 \t 5.4632E-04 \t 6.2264E-04 \t 4.5176E-06 \t 1.1125E-03 \t 1.7397E-03 \t 3.0552E-03\n"
     ]
    },
    {
     "name": "stderr",
     "output_type": "stream",
     "text": [
      "  5%|▌         | 5004/100000 [03:51<1:17:00, 20.56it/s]"
     ]
    },
    {
     "name": "stdout",
     "output_type": "stream",
     "text": [
      "5000 \t 4.6969E-04 \t 3.5726E-04 \t 4.9667E-06 \t 6.8149E-04 \t 1.0437E-03 \t 2.2248E-03\n"
     ]
    },
    {
     "name": "stderr",
     "output_type": "stream",
     "text": [
      "  6%|▌         | 6005/100000 [04:38<1:15:28, 20.76it/s]"
     ]
    },
    {
     "name": "stdout",
     "output_type": "stream",
     "text": [
      "6000 \t 4.0381E-04 \t 2.2987E-04 \t 3.0288E-05 \t 9.2922E-04 \t 1.1894E-03 \t 1.7170E-03\n"
     ]
    },
    {
     "name": "stderr",
     "output_type": "stream",
     "text": [
      "  7%|▋         | 7004/100000 [05:22<1:07:13, 23.05it/s]"
     ]
    },
    {
     "name": "stdout",
     "output_type": "stream",
     "text": [
      "7000 \t 3.4717E-04 \t 1.7153E-04 \t 6.6658E-07 \t 4.1748E-04 \t 5.8968E-04 \t 9.9528E-04\n"
     ]
    },
    {
     "name": "stderr",
     "output_type": "stream",
     "text": [
      "  8%|▊         | 8004/100000 [06:03<1:08:23, 22.42it/s]"
     ]
    },
    {
     "name": "stdout",
     "output_type": "stream",
     "text": [
      "8000 \t 2.9847E-04 \t 1.3622E-04 \t 1.4461E-06 \t 3.9190E-04 \t 5.2957E-04 \t 9.8254E-04\n"
     ]
    },
    {
     "name": "stderr",
     "output_type": "stream",
     "text": [
      "  9%|▉         | 9004/100000 [06:48<1:22:31, 18.38it/s]"
     ]
    },
    {
     "name": "stdout",
     "output_type": "stream",
     "text": [
      "9000 \t 2.5660E-04 \t 1.0764E-04 \t 8.9967E-06 \t 3.1478E-04 \t 4.3142E-04 \t 8.8717E-04\n"
     ]
    },
    {
     "name": "stderr",
     "output_type": "stream",
     "text": [
      " 10%|█         | 10004/100000 [07:34<1:10:41, 21.22it/s]"
     ]
    },
    {
     "name": "stdout",
     "output_type": "stream",
     "text": [
      "10000 \t 2.2061E-04 \t 9.0398E-05 \t 1.2632E-06 \t 2.8182E-04 \t 3.7348E-04 \t 8.0713E-04\n"
     ]
    },
    {
     "name": "stderr",
     "output_type": "stream",
     "text": [
      " 11%|█         | 11005/100000 [08:19<1:08:25, 21.68it/s]"
     ]
    },
    {
     "name": "stdout",
     "output_type": "stream",
     "text": [
      "11000 \t 1.8966E-04 \t 8.0338E-05 \t 1.4688E-06 \t 2.6935E-04 \t 3.5116E-04 \t 8.3306E-04\n"
     ]
    },
    {
     "name": "stderr",
     "output_type": "stream",
     "text": [
      " 12%|█▏        | 12004/100000 [09:01<58:27, 25.09it/s]  "
     ]
    },
    {
     "name": "stdout",
     "output_type": "stream",
     "text": [
      "12000 \t 1.6306E-04 \t 7.0661E-05 \t 1.0579E-06 \t 2.3280E-04 \t 3.0452E-04 \t 8.0548E-04\n"
     ]
    },
    {
     "name": "stderr",
     "output_type": "stream",
     "text": [
      " 13%|█▎        | 13003/100000 [09:42<1:07:33, 21.46it/s]"
     ]
    },
    {
     "name": "stdout",
     "output_type": "stream",
     "text": [
      "13000 \t 1.4019E-04 \t 6.3741E-05 \t 1.3742E-06 \t 2.0678E-04 \t 2.7189E-04 \t 7.8985E-04\n"
     ]
    },
    {
     "name": "stderr",
     "output_type": "stream",
     "text": [
      " 14%|█▍        | 14003/100000 [10:28<1:05:41, 21.82it/s]"
     ]
    },
    {
     "name": "stdout",
     "output_type": "stream",
     "text": [
      "14000 \t 1.2052E-04 \t 6.4663E-05 \t 1.2653E-06 \t 2.6871E-04 \t 3.3464E-04 \t 1.3242E-03\n"
     ]
    },
    {
     "name": "stderr",
     "output_type": "stream",
     "text": [
      " 15%|█▌        | 15005/100000 [11:12<1:04:26, 21.98it/s]"
     ]
    },
    {
     "name": "stdout",
     "output_type": "stream",
     "text": [
      "15000 \t 1.0362E-04 \t 5.2956E-05 \t 1.3865E-06 \t 1.7672E-04 \t 2.3106E-04 \t 7.1695E-04\n"
     ]
    },
    {
     "name": "stderr",
     "output_type": "stream",
     "text": [
      " 16%|█▌        | 16004/100000 [11:57<1:02:04, 22.55it/s]"
     ]
    },
    {
     "name": "stdout",
     "output_type": "stream",
     "text": [
      "16000 \t 8.9083E-05 \t 4.9470E-05 \t 1.1361E-06 \t 1.7477E-04 \t 2.2538E-04 \t 7.4307E-04\n"
     ]
    },
    {
     "name": "stderr",
     "output_type": "stream",
     "text": [
      " 17%|█▋        | 17006/100000 [12:38<56:16, 24.58it/s]  "
     ]
    },
    {
     "name": "stdout",
     "output_type": "stream",
     "text": [
      "17000 \t 7.6588E-05 \t 4.8566E-05 \t 1.4094E-06 \t 1.8840E-04 \t 2.3837E-04 \t 7.1985E-04\n"
     ]
    },
    {
     "name": "stderr",
     "output_type": "stream",
     "text": [
      " 18%|█▊        | 18005/100000 [13:19<1:03:09, 21.64it/s]"
     ]
    },
    {
     "name": "stdout",
     "output_type": "stream",
     "text": [
      "18000 \t 6.5845E-05 \t 4.5079E-05 \t 1.4245E-06 \t 2.0344E-04 \t 2.4994E-04 \t 6.4008E-04\n"
     ]
    },
    {
     "name": "stderr",
     "output_type": "stream",
     "text": [
      " 19%|█▉        | 19004/100000 [14:04<1:02:11, 21.70it/s]"
     ]
    },
    {
     "name": "stdout",
     "output_type": "stream",
     "text": [
      "19000 \t 5.6609E-05 \t 4.3607E-05 \t 8.0978E-07 \t 1.5623E-04 \t 2.0064E-04 \t 6.4053E-04\n"
     ]
    },
    {
     "name": "stderr",
     "output_type": "stream",
     "text": [
      " 20%|██        | 20003/100000 [14:49<1:02:30, 21.33it/s]"
     ]
    },
    {
     "name": "stdout",
     "output_type": "stream",
     "text": [
      "20000 \t 4.8668E-05 \t 4.0599E-05 \t 7.4246E-07 \t 1.3855E-04 \t 1.7989E-04 \t 6.2212E-04\n"
     ]
    },
    {
     "name": "stderr",
     "output_type": "stream",
     "text": [
      " 21%|██        | 21005/100000 [15:33<58:57, 22.33it/s]  "
     ]
    },
    {
     "name": "stdout",
     "output_type": "stream",
     "text": [
      "21000 \t 4.1842E-05 \t 3.9265E-05 \t 6.8358E-07 \t 1.3673E-04 \t 1.7668E-04 \t 6.0473E-04\n"
     ]
    },
    {
     "name": "stderr",
     "output_type": "stream",
     "text": [
      " 22%|██▏       | 22004/100000 [16:12<51:07, 25.42it/s]"
     ]
    },
    {
     "name": "stdout",
     "output_type": "stream",
     "text": [
      "22000 \t 3.5973E-05 \t 3.7830E-05 \t 1.7691E-06 \t 1.3503E-04 \t 1.7463E-04 \t 6.7363E-04\n"
     ]
    },
    {
     "name": "stderr",
     "output_type": "stream",
     "text": [
      " 23%|██▎       | 23003/100000 [16:55<57:49, 22.19it/s]  "
     ]
    },
    {
     "name": "stdout",
     "output_type": "stream",
     "text": [
      "23000 \t 3.0927E-05 \t 3.6981E-05 \t 6.6789E-07 \t 1.2955E-04 \t 1.6720E-04 \t 5.7979E-04\n"
     ]
    },
    {
     "name": "stderr",
     "output_type": "stream",
     "text": [
      " 24%|██▍       | 24002/100000 [17:40<57:28, 22.04it/s]  "
     ]
    },
    {
     "name": "stdout",
     "output_type": "stream",
     "text": [
      "24000 \t 2.6589E-05 \t 3.7036E-05 \t 6.6487E-07 \t 1.2214E-04 \t 1.5984E-04 \t 5.5750E-04\n"
     ]
    },
    {
     "name": "stderr",
     "output_type": "stream",
     "text": [
      " 25%|██▌       | 25004/100000 [18:24<56:35, 22.09it/s]  "
     ]
    },
    {
     "name": "stdout",
     "output_type": "stream",
     "text": [
      "25000 \t 2.2859E-05 \t 3.5168E-05 \t 1.9852E-06 \t 1.4200E-04 \t 1.7915E-04 \t 5.8719E-04\n"
     ]
    },
    {
     "name": "stderr",
     "output_type": "stream",
     "text": [
      " 26%|██▌       | 26004/100000 [19:07<51:14, 24.06it/s]  "
     ]
    },
    {
     "name": "stdout",
     "output_type": "stream",
     "text": [
      "26000 \t 1.9653E-05 \t 3.4744E-05 \t 8.3385E-07 \t 1.1770E-04 \t 1.5328E-04 \t 5.8438E-04\n"
     ]
    },
    {
     "name": "stderr",
     "output_type": "stream",
     "text": [
      " 27%|██▋       | 27003/100000 [19:47<50:18, 24.19it/s]"
     ]
    },
    {
     "name": "stdout",
     "output_type": "stream",
     "text": [
      "27000 \t 1.6896E-05 \t 3.3622E-05 \t 7.7255E-07 \t 1.1969E-04 \t 1.5409E-04 \t 5.3866E-04\n"
     ]
    },
    {
     "name": "stderr",
     "output_type": "stream",
     "text": [
      " 28%|██▊       | 28004/100000 [20:31<56:53, 21.09it/s]  "
     ]
    },
    {
     "name": "stdout",
     "output_type": "stream",
     "text": [
      "28000 \t 1.4526E-05 \t 3.3879E-05 \t 5.8754E-07 \t 1.0655E-04 \t 1.4102E-04 \t 5.6589E-04\n"
     ]
    },
    {
     "name": "stderr",
     "output_type": "stream",
     "text": [
      " 29%|██▉       | 29004/100000 [21:16<53:15, 22.22it/s]  "
     ]
    },
    {
     "name": "stdout",
     "output_type": "stream",
     "text": [
      "29000 \t 1.2488E-05 \t 3.2381E-05 \t 7.7475E-07 \t 1.1450E-04 \t 1.4766E-04 \t 5.5680E-04\n"
     ]
    },
    {
     "name": "stderr",
     "output_type": "stream",
     "text": [
      " 30%|███       | 30004/100000 [22:00<55:15, 21.11it/s]  "
     ]
    },
    {
     "name": "stdout",
     "output_type": "stream",
     "text": [
      "30000 \t 1.0737E-05 \t 3.1982E-05 \t 6.4097E-07 \t 1.0886E-04 \t 1.4149E-04 \t 4.9494E-04\n"
     ]
    },
    {
     "name": "stderr",
     "output_type": "stream",
     "text": [
      " 31%|███       | 31004/100000 [22:44<44:29, 25.85it/s]  "
     ]
    },
    {
     "name": "stdout",
     "output_type": "stream",
     "text": [
      "31000 \t 9.2306E-06 \t 3.1741E-05 \t 7.7221E-07 \t 1.0441E-04 \t 1.3692E-04 \t 5.2331E-04\n"
     ]
    },
    {
     "name": "stderr",
     "output_type": "stream",
     "text": [
      " 32%|███▏      | 32006/100000 [23:23<47:14, 23.99it/s]"
     ]
    },
    {
     "name": "stdout",
     "output_type": "stream",
     "text": [
      "32000 \t 7.9359E-06 \t 3.1394E-05 \t 5.4858E-07 \t 1.0395E-04 \t 1.3589E-04 \t 5.4517E-04\n"
     ]
    },
    {
     "name": "stderr",
     "output_type": "stream",
     "text": [
      " 33%|███▎      | 33005/100000 [24:07<53:34, 20.84it/s]"
     ]
    },
    {
     "name": "stdout",
     "output_type": "stream",
     "text": [
      "33000 \t 6.8227E-06 \t 3.0996E-05 \t 8.8437E-07 \t 1.0196E-04 \t 1.3384E-04 \t 5.5667E-04\n"
     ]
    },
    {
     "name": "stderr",
     "output_type": "stream",
     "text": [
      " 34%|███▍      | 34003/100000 [24:52<58:24, 18.83it/s]"
     ]
    },
    {
     "name": "stdout",
     "output_type": "stream",
     "text": [
      "34000 \t 5.8657E-06 \t 3.0574E-05 \t 7.4190E-07 \t 1.0789E-04 \t 1.3920E-04 \t 5.4661E-04\n"
     ]
    },
    {
     "name": "stderr",
     "output_type": "stream",
     "text": [
      " 35%|███▌      | 35003/100000 [25:37<50:37, 21.40it/s]"
     ]
    },
    {
     "name": "stdout",
     "output_type": "stream",
     "text": [
      "35000 \t 5.0429E-06 \t 3.0840E-05 \t 6.5557E-07 \t 1.0207E-04 \t 1.3357E-04 \t 5.6728E-04\n"
     ]
    },
    {
     "name": "stderr",
     "output_type": "stream",
     "text": [
      " 36%|███▌      | 36005/100000 [26:19<42:50, 24.90it/s]"
     ]
    },
    {
     "name": "stdout",
     "output_type": "stream",
     "text": [
      "36000 \t 4.3355E-06 \t 2.9983E-05 \t 5.5584E-07 \t 9.9242E-05 \t 1.2978E-04 \t 5.1783E-04\n"
     ]
    },
    {
     "name": "stderr",
     "output_type": "stream",
     "text": [
      " 37%|███▋      | 37004/100000 [27:01<46:37, 22.51it/s]"
     ]
    },
    {
     "name": "stdout",
     "output_type": "stream",
     "text": [
      "37000 \t 3.7274E-06 \t 2.9646E-05 \t 1.1448E-06 \t 1.0059E-04 \t 1.3138E-04 \t 4.9449E-04\n"
     ]
    },
    {
     "name": "stderr",
     "output_type": "stream",
     "text": [
      " 38%|███▊      | 38003/100000 [27:45<45:25, 22.74it/s]"
     ]
    },
    {
     "name": "stdout",
     "output_type": "stream",
     "text": [
      "38000 \t 3.2046E-06 \t 3.0454E-05 \t 5.9744E-07 \t 1.0344E-04 \t 1.3449E-04 \t 5.1578E-04\n"
     ]
    },
    {
     "name": "stderr",
     "output_type": "stream",
     "text": [
      " 39%|███▉      | 39005/100000 [28:30<46:03, 22.07it/s]"
     ]
    },
    {
     "name": "stdout",
     "output_type": "stream",
     "text": [
      "39000 \t 2.7551E-06 \t 2.9818E-05 \t 8.8060E-07 \t 9.8273E-05 \t 1.2897E-04 \t 4.9580E-04\n"
     ]
    },
    {
     "name": "stderr",
     "output_type": "stream",
     "text": [
      " 40%|████      | 40004/100000 [29:15<45:07, 22.16it/s]"
     ]
    },
    {
     "name": "stdout",
     "output_type": "stream",
     "text": [
      "40000 \t 2.3686E-06 \t 3.0171E-05 \t 5.8498E-07 \t 9.8624E-05 \t 1.2938E-04 \t 4.8581E-04\n"
     ]
    },
    {
     "name": "stderr",
     "output_type": "stream",
     "text": [
      " 41%|████      | 41006/100000 [29:56<36:51, 26.67it/s]"
     ]
    },
    {
     "name": "stdout",
     "output_type": "stream",
     "text": [
      "41000 \t 2.0364E-06 \t 2.9616E-05 \t 6.3996E-07 \t 9.8477E-05 \t 1.2873E-04 \t 4.9024E-04\n"
     ]
    },
    {
     "name": "stderr",
     "output_type": "stream",
     "text": [
      " 42%|████▏     | 42005/100000 [30:37<45:18, 21.33it/s]"
     ]
    },
    {
     "name": "stdout",
     "output_type": "stream",
     "text": [
      "42000 \t 1.7507E-06 \t 2.9291E-05 \t 7.9582E-07 \t 1.0004E-04 \t 1.3013E-04 \t 5.2161E-04\n"
     ]
    },
    {
     "name": "stderr",
     "output_type": "stream",
     "text": [
      " 43%|████▎     | 43003/100000 [31:22<42:20, 22.44it/s]"
     ]
    },
    {
     "name": "stdout",
     "output_type": "stream",
     "text": [
      "43000 \t 1.5051E-06 \t 2.9698E-05 \t 8.6186E-07 \t 9.8548E-05 \t 1.2911E-04 \t 5.1411E-04\n"
     ]
    },
    {
     "name": "stderr",
     "output_type": "stream",
     "text": [
      " 44%|████▍     | 44005/100000 [32:07<43:10, 21.62it/s]"
     ]
    },
    {
     "name": "stdout",
     "output_type": "stream",
     "text": [
      "44000 \t 1.2940E-06 \t 2.9472E-05 \t 7.8549E-07 \t 1.0202E-04 \t 1.3228E-04 \t 5.0597E-04\n"
     ]
    },
    {
     "name": "stderr",
     "output_type": "stream",
     "text": [
      " 45%|████▌     | 45003/100000 [32:51<38:55, 23.55it/s]"
     ]
    },
    {
     "name": "stdout",
     "output_type": "stream",
     "text": [
      "45000 \t 1.1125E-06 \t 2.9777E-05 \t 6.4171E-07 \t 9.7265E-05 \t 1.2768E-04 \t 5.0711E-04\n"
     ]
    },
    {
     "name": "stderr",
     "output_type": "stream",
     "text": [
      " 46%|████▌     | 46005/100000 [33:31<37:24, 24.06it/s]"
     ]
    },
    {
     "name": "stdout",
     "output_type": "stream",
     "text": [
      "46000 \t 9.5646E-07 \t 2.8875E-05 \t 8.1799E-07 \t 1.1058E-04 \t 1.4027E-04 \t 4.9644E-04\n"
     ]
    },
    {
     "name": "stderr",
     "output_type": "stream",
     "text": [
      " 47%|████▋     | 47004/100000 [34:15<41:43, 21.17it/s]"
     ]
    },
    {
     "name": "stdout",
     "output_type": "stream",
     "text": [
      "47000 \t 8.2230E-07 \t 2.9127E-05 \t 9.5690E-07 \t 1.0344E-04 \t 1.3352E-04 \t 4.9912E-04\n"
     ]
    },
    {
     "name": "stderr",
     "output_type": "stream",
     "text": [
      " 48%|████▊     | 48003/100000 [34:59<37:55, 22.85it/s]"
     ]
    },
    {
     "name": "stdout",
     "output_type": "stream",
     "text": [
      "48000 \t 7.0695E-07 \t 2.9926E-05 \t 7.6009E-07 \t 1.0808E-04 \t 1.3876E-04 \t 5.0294E-04\n"
     ]
    },
    {
     "name": "stderr",
     "output_type": "stream",
     "text": [
      " 49%|████▉     | 49005/100000 [35:44<38:23, 22.13it/s]"
     ]
    },
    {
     "name": "stdout",
     "output_type": "stream",
     "text": [
      "49000 \t 6.0779E-07 \t 3.0142E-05 \t 5.6082E-07 \t 1.0106E-04 \t 1.3176E-04 \t 5.1198E-04\n"
     ]
    },
    {
     "name": "stderr",
     "output_type": "stream",
     "text": [
      " 50%|█████     | 50004/100000 [36:28<34:13, 24.35it/s]"
     ]
    },
    {
     "name": "stdout",
     "output_type": "stream",
     "text": [
      "50000 \t 5.2253E-07 \t 2.9488E-05 \t 6.6989E-07 \t 9.9937E-05 \t 1.3009E-04 \t 5.1791E-04\n"
     ]
    },
    {
     "name": "stderr",
     "output_type": "stream",
     "text": [
      " 51%|█████     | 51006/100000 [37:08<31:37, 25.82it/s]"
     ]
    },
    {
     "name": "stdout",
     "output_type": "stream",
     "text": [
      "51000 \t 4.4924E-07 \t 2.9441E-05 \t 6.3753E-07 \t 9.4710E-05 \t 1.2479E-04 \t 5.2002E-04\n"
     ]
    },
    {
     "name": "stderr",
     "output_type": "stream",
     "text": [
      " 52%|█████▏    | 52003/100000 [37:51<38:07, 20.98it/s]"
     ]
    },
    {
     "name": "stdout",
     "output_type": "stream",
     "text": [
      "52000 \t 3.8622E-07 \t 2.8998E-05 \t 7.5477E-07 \t 9.8718E-05 \t 1.2847E-04 \t 5.2408E-04\n"
     ]
    },
    {
     "name": "stderr",
     "output_type": "stream",
     "text": [
      " 53%|█████▎    | 53005/100000 [38:36<36:19, 21.56it/s]"
     ]
    },
    {
     "name": "stdout",
     "output_type": "stream",
     "text": [
      "53000 \t 3.3205E-07 \t 2.9021E-05 \t 6.0525E-07 \t 1.0041E-04 \t 1.3004E-04 \t 5.1430E-04\n"
     ]
    },
    {
     "name": "stderr",
     "output_type": "stream",
     "text": [
      " 54%|█████▍    | 54004/100000 [39:21<36:07, 21.22it/s]"
     ]
    },
    {
     "name": "stdout",
     "output_type": "stream",
     "text": [
      "54000 \t 2.8547E-07 \t 2.9002E-05 \t 7.5587E-07 \t 9.7500E-05 \t 1.2726E-04 \t 4.9816E-04\n"
     ]
    },
    {
     "name": "stderr",
     "output_type": "stream",
     "text": [
      " 55%|█████▌    | 55004/100000 [40:05<33:11, 22.60it/s]"
     ]
    },
    {
     "name": "stdout",
     "output_type": "stream",
     "text": [
      "55000 \t 2.4543E-07 \t 2.8991E-05 \t 7.6224E-07 \t 1.0035E-04 \t 1.3010E-04 \t 5.1660E-04\n"
     ]
    },
    {
     "name": "stderr",
     "output_type": "stream",
     "text": [
      " 56%|█████▌    | 56003/100000 [40:44<33:14, 22.06it/s]"
     ]
    },
    {
     "name": "stdout",
     "output_type": "stream",
     "text": [
      "56000 \t 2.1100E-07 \t 2.9296E-05 \t 8.2849E-07 \t 9.8135E-05 \t 1.2826E-04 \t 5.1664E-04\n"
     ]
    },
    {
     "name": "stderr",
     "output_type": "stream",
     "text": [
      " 57%|█████▋    | 57005/100000 [41:28<34:27, 20.79it/s]"
     ]
    },
    {
     "name": "stdout",
     "output_type": "stream",
     "text": [
      "57000 \t 1.8141E-07 \t 2.9306E-05 \t 5.8318E-07 \t 9.8571E-05 \t 1.2846E-04 \t 5.0960E-04\n"
     ]
    },
    {
     "name": "stderr",
     "output_type": "stream",
     "text": [
      " 58%|█████▊    | 58004/100000 [42:13<31:22, 22.31it/s]"
     ]
    },
    {
     "name": "stdout",
     "output_type": "stream",
     "text": [
      "58000 \t 1.5596E-07 \t 2.9061E-05 \t 6.4994E-07 \t 1.0587E-04 \t 1.3558E-04 \t 5.0181E-04\n"
     ]
    },
    {
     "name": "stderr",
     "output_type": "stream",
     "text": [
      " 59%|█████▉    | 59003/100000 [42:57<30:46, 22.20it/s]"
     ]
    },
    {
     "name": "stdout",
     "output_type": "stream",
     "text": [
      "59000 \t 1.3408E-07 \t 2.9198E-05 \t 7.2961E-07 \t 1.0093E-04 \t 1.3086E-04 \t 5.1451E-04\n"
     ]
    },
    {
     "name": "stderr",
     "output_type": "stream",
     "text": [
      " 60%|██████    | 60005/100000 [43:41<27:46, 24.00it/s]"
     ]
    },
    {
     "name": "stdout",
     "output_type": "stream",
     "text": [
      "60000 \t 1.1528E-07 \t 2.9031E-05 \t 6.9857E-07 \t 1.0329E-04 \t 1.3302E-04 \t 5.0116E-04\n"
     ]
    },
    {
     "name": "stderr",
     "output_type": "stream",
     "text": [
      " 61%|██████    | 61004/100000 [44:20<27:26, 23.68it/s]"
     ]
    },
    {
     "name": "stdout",
     "output_type": "stream",
     "text": [
      "61000 \t 9.9106E-08 \t 2.9007E-05 \t 7.0897E-07 \t 9.9069E-05 \t 1.2878E-04 \t 5.0142E-04\n"
     ]
    },
    {
     "name": "stderr",
     "output_type": "stream",
     "text": [
      " 62%|██████▏   | 62003/100000 [45:04<29:19, 21.60it/s]"
     ]
    },
    {
     "name": "stdout",
     "output_type": "stream",
     "text": [
      "62000 \t 8.5205E-08 \t 2.9012E-05 \t 8.4214E-07 \t 1.0353E-04 \t 1.3339E-04 \t 4.9964E-04\n"
     ]
    },
    {
     "name": "stderr",
     "output_type": "stream",
     "text": [
      " 63%|██████▎   | 63005/100000 [45:49<27:41, 22.27it/s]"
     ]
    },
    {
     "name": "stdout",
     "output_type": "stream",
     "text": [
      "63000 \t 7.3253E-08 \t 2.9259E-05 \t 6.0485E-07 \t 1.0168E-04 \t 1.3154E-04 \t 4.9651E-04\n"
     ]
    },
    {
     "name": "stderr",
     "output_type": "stream",
     "text": [
      " 64%|██████▍   | 64004/100000 [46:33<28:30, 21.05it/s]"
     ]
    },
    {
     "name": "stdout",
     "output_type": "stream",
     "text": [
      "64000 \t 6.2978E-08 \t 2.9100E-05 \t 5.8092E-07 \t 9.9688E-05 \t 1.2937E-04 \t 4.9164E-04\n"
     ]
    },
    {
     "name": "stderr",
     "output_type": "stream",
     "text": [
      " 65%|██████▌   | 65003/100000 [47:15<22:29, 25.94it/s]"
     ]
    },
    {
     "name": "stdout",
     "output_type": "stream",
     "text": [
      "65000 \t 5.4144E-08 \t 2.9117E-05 \t 5.1757E-07 \t 1.0091E-04 \t 1.3054E-04 \t 4.9248E-04\n"
     ]
    },
    {
     "name": "stderr",
     "output_type": "stream",
     "text": [
      " 66%|██████▌   | 66005/100000 [47:54<22:49, 24.82it/s]"
     ]
    },
    {
     "name": "stdout",
     "output_type": "stream",
     "text": [
      "66000 \t 4.6549E-08 \t 2.8982E-05 \t 5.9875E-07 \t 9.9896E-05 \t 1.2948E-04 \t 4.8575E-04\n"
     ]
    },
    {
     "name": "stderr",
     "output_type": "stream",
     "text": [
      " 67%|██████▋   | 67004/100000 [48:39<25:28, 21.59it/s]"
     ]
    },
    {
     "name": "stdout",
     "output_type": "stream",
     "text": [
      "67000 \t 4.0020E-08 \t 2.9008E-05 \t 6.3791E-07 \t 9.9567E-05 \t 1.2921E-04 \t 4.9023E-04\n"
     ]
    },
    {
     "name": "stderr",
     "output_type": "stream",
     "text": [
      " 68%|██████▊   | 68003/100000 [49:24<25:46, 20.69it/s]"
     ]
    },
    {
     "name": "stdout",
     "output_type": "stream",
     "text": [
      "68000 \t 3.4406E-08 \t 2.8932E-05 \t 5.9176E-07 \t 9.9400E-05 \t 1.2892E-04 \t 4.9086E-04\n"
     ]
    },
    {
     "name": "stderr",
     "output_type": "stream",
     "text": [
      " 69%|██████▉   | 69003/100000 [50:09<23:08, 22.32it/s]"
     ]
    },
    {
     "name": "stdout",
     "output_type": "stream",
     "text": [
      "69000 \t 2.9580E-08 \t 2.9010E-05 \t 5.9847E-07 \t 1.0007E-04 \t 1.2968E-04 \t 4.9219E-04\n"
     ]
    },
    {
     "name": "stderr",
     "output_type": "stream",
     "text": [
      " 70%|███████   | 70005/100000 [50:51<19:21, 25.82it/s]"
     ]
    },
    {
     "name": "stdout",
     "output_type": "stream",
     "text": [
      "70000 \t 2.5431E-08 \t 2.8976E-05 \t 6.2444E-07 \t 9.8881E-05 \t 1.2848E-04 \t 4.9542E-04\n"
     ]
    },
    {
     "name": "stderr",
     "output_type": "stream",
     "text": [
      " 71%|███████   | 71004/100000 [51:32<21:43, 22.25it/s]"
     ]
    },
    {
     "name": "stdout",
     "output_type": "stream",
     "text": [
      "71000 \t 2.1864E-08 \t 2.8895E-05 \t 6.3818E-07 \t 9.5262E-05 \t 1.2479E-04 \t 4.9630E-04\n"
     ]
    },
    {
     "name": "stderr",
     "output_type": "stream",
     "text": [
      " 72%|███████▏  | 72003/100000 [52:16<21:06, 22.11it/s]"
     ]
    },
    {
     "name": "stdout",
     "output_type": "stream",
     "text": [
      "72000 \t 1.8797E-08 \t 2.9019E-05 \t 6.0444E-07 \t 1.0121E-04 \t 1.3084E-04 \t 5.0140E-04\n"
     ]
    },
    {
     "name": "stderr",
     "output_type": "stream",
     "text": [
      " 73%|███████▎  | 73005/100000 [53:01<20:13, 22.25it/s]"
     ]
    },
    {
     "name": "stdout",
     "output_type": "stream",
     "text": [
      "73000 \t 1.6160E-08 \t 2.9100E-05 \t 6.7591E-07 \t 9.6159E-05 \t 1.2594E-04 \t 4.9204E-04\n"
     ]
    },
    {
     "name": "stderr",
     "output_type": "stream",
     "text": [
      " 74%|███████▍  | 74004/100000 [53:46<19:13, 22.54it/s]"
     ]
    },
    {
     "name": "stdout",
     "output_type": "stream",
     "text": [
      "74000 \t 1.3893E-08 \t 2.8991E-05 \t 6.7520E-07 \t 9.2681E-05 \t 1.2235E-04 \t 4.9116E-04\n"
     ]
    },
    {
     "name": "stderr",
     "output_type": "stream",
     "text": [
      " 75%|███████▌  | 75003/100000 [54:27<16:03, 25.95it/s]"
     ]
    },
    {
     "name": "stdout",
     "output_type": "stream",
     "text": [
      "75000 \t 1.1945E-08 \t 2.9099E-05 \t 6.4264E-07 \t 9.5810E-05 \t 1.2555E-04 \t 4.9215E-04\n"
     ]
    },
    {
     "name": "stderr",
     "output_type": "stream",
     "text": [
      " 76%|███████▌  | 76002/100000 [55:09<18:44, 21.34it/s]"
     ]
    },
    {
     "name": "stdout",
     "output_type": "stream",
     "text": [
      "76000 \t 1.0269E-08 \t 2.9083E-05 \t 6.4667E-07 \t 9.7315E-05 \t 1.2704E-04 \t 4.9635E-04\n"
     ]
    },
    {
     "name": "stderr",
     "output_type": "stream",
     "text": [
      " 77%|███████▋  | 77004/100000 [55:54<17:10, 22.32it/s]"
     ]
    },
    {
     "name": "stdout",
     "output_type": "stream",
     "text": [
      "77000 \t 8.8287E-09 \t 2.9121E-05 \t 6.7862E-07 \t 9.7788E-05 \t 1.2759E-04 \t 4.9407E-04\n"
     ]
    },
    {
     "name": "stderr",
     "output_type": "stream",
     "text": [
      " 78%|███████▊  | 78003/100000 [56:39<16:48, 21.80it/s]"
     ]
    },
    {
     "name": "stdout",
     "output_type": "stream",
     "text": [
      "78000 \t 7.5903E-09 \t 2.9134E-05 \t 6.9988E-07 \t 1.0321E-04 \t 1.3305E-04 \t 4.9528E-04\n"
     ]
    },
    {
     "name": "stderr",
     "output_type": "stream",
     "text": [
      " 79%|███████▉  | 79005/100000 [57:23<15:09, 23.08it/s]"
     ]
    },
    {
     "name": "stdout",
     "output_type": "stream",
     "text": [
      "79000 \t 6.5256E-09 \t 2.9235E-05 \t 6.4496E-07 \t 9.3542E-05 \t 1.2342E-04 \t 4.9419E-04\n"
     ]
    },
    {
     "name": "stderr",
     "output_type": "stream",
     "text": [
      " 80%|████████  | 80004/100000 [58:03<12:47, 26.05it/s]"
     ]
    },
    {
     "name": "stdout",
     "output_type": "stream",
     "text": [
      "80000 \t 5.6103E-09 \t 2.9081E-05 \t 6.8289E-07 \t 9.5166E-05 \t 1.2493E-04 \t 4.9734E-04\n"
     ]
    },
    {
     "name": "stderr",
     "output_type": "stream",
     "text": [
      " 81%|████████  | 81003/100000 [58:46<14:14, 22.23it/s]"
     ]
    },
    {
     "name": "stdout",
     "output_type": "stream",
     "text": [
      "81000 \t 4.8233E-09 \t 2.9051E-05 \t 6.6128E-07 \t 9.6391E-05 \t 1.2610E-04 \t 4.9509E-04\n"
     ]
    },
    {
     "name": "stderr",
     "output_type": "stream",
     "text": [
      " 82%|████████▏ | 82004/100000 [59:31<13:43, 21.84it/s]"
     ]
    },
    {
     "name": "stdout",
     "output_type": "stream",
     "text": [
      "82000 \t 4.1468E-09 \t 2.9001E-05 \t 6.3763E-07 \t 9.4098E-05 \t 1.2374E-04 \t 4.9205E-04\n"
     ]
    },
    {
     "name": "stderr",
     "output_type": "stream",
     "text": [
      " 83%|████████▎ | 83005/100000 [1:00:16<12:52, 22.00it/s]"
     ]
    },
    {
     "name": "stdout",
     "output_type": "stream",
     "text": [
      "83000 \t 3.5651E-09 \t 2.8937E-05 \t 6.9696E-07 \t 9.7009E-05 \t 1.2664E-04 \t 4.9576E-04\n"
     ]
    },
    {
     "name": "stderr",
     "output_type": "stream",
     "text": [
      " 84%|████████▍ | 84004/100000 [1:01:00<10:52, 24.52it/s]"
     ]
    },
    {
     "name": "stdout",
     "output_type": "stream",
     "text": [
      "84000 \t 3.0650E-09 \t 2.8939E-05 \t 6.5062E-07 \t 9.7372E-05 \t 1.2696E-04 \t 4.9833E-04\n"
     ]
    },
    {
     "name": "stderr",
     "output_type": "stream",
     "text": [
      " 85%|████████▌ | 85003/100000 [1:01:40<10:00, 24.98it/s]"
     ]
    },
    {
     "name": "stdout",
     "output_type": "stream",
     "text": [
      "85000 \t 2.6351E-09 \t 2.8963E-05 \t 6.4739E-07 \t 9.6613E-05 \t 1.2622E-04 \t 5.0125E-04\n"
     ]
    },
    {
     "name": "stderr",
     "output_type": "stream",
     "text": [
      " 86%|████████▌ | 86004/100000 [1:02:24<10:44, 21.72it/s]"
     ]
    },
    {
     "name": "stdout",
     "output_type": "stream",
     "text": [
      "86000 \t 2.2655E-09 \t 2.9076E-05 \t 5.7167E-07 \t 9.8344E-05 \t 1.2799E-04 \t 5.0347E-04\n"
     ]
    },
    {
     "name": "stderr",
     "output_type": "stream",
     "text": [
      " 87%|████████▋ | 87003/100000 [1:03:09<09:52, 21.93it/s]"
     ]
    },
    {
     "name": "stdout",
     "output_type": "stream",
     "text": [
      "87000 \t 1.9477E-09 \t 2.9052E-05 \t 6.5137E-07 \t 9.5813E-05 \t 1.2552E-04 \t 5.0352E-04\n"
     ]
    },
    {
     "name": "stderr",
     "output_type": "stream",
     "text": [
      " 88%|████████▊ | 88005/100000 [1:03:53<09:00, 22.19it/s]"
     ]
    },
    {
     "name": "stdout",
     "output_type": "stream",
     "text": [
      "88000 \t 1.6745E-09 \t 2.9047E-05 \t 6.3462E-07 \t 9.4853E-05 \t 1.2453E-04 \t 5.0379E-04\n"
     ]
    },
    {
     "name": "stderr",
     "output_type": "stream",
     "text": [
      " 89%|████████▉ | 89004/100000 [1:04:36<08:08, 22.51it/s]"
     ]
    },
    {
     "name": "stdout",
     "output_type": "stream",
     "text": [
      "89000 \t 1.4396E-09 \t 2.9057E-05 \t 6.1551E-07 \t 9.4700E-05 \t 1.2437E-04 \t 5.0534E-04\n"
     ]
    },
    {
     "name": "stderr",
     "output_type": "stream",
     "text": [
      " 90%|█████████ | 90003/100000 [1:05:15<07:37, 21.85it/s]"
     ]
    },
    {
     "name": "stdout",
     "output_type": "stream",
     "text": [
      "90000 \t 1.2377E-09 \t 2.9062E-05 \t 5.7615E-07 \t 9.6093E-05 \t 1.2573E-04 \t 5.0567E-04\n"
     ]
    },
    {
     "name": "stderr",
     "output_type": "stream",
     "text": [
      " 91%|█████████ | 91005/100000 [1:06:00<06:53, 21.74it/s]"
     ]
    },
    {
     "name": "stdout",
     "output_type": "stream",
     "text": [
      "91000 \t 1.0641E-09 \t 2.9084E-05 \t 5.7364E-07 \t 9.6352E-05 \t 1.2601E-04 \t 5.0544E-04\n"
     ]
    },
    {
     "name": "stderr",
     "output_type": "stream",
     "text": [
      " 92%|█████████▏| 92003/100000 [1:06:44<05:52, 22.67it/s]"
     ]
    },
    {
     "name": "stdout",
     "output_type": "stream",
     "text": [
      "92000 \t 9.1481E-10 \t 2.9072E-05 \t 5.8918E-07 \t 9.8158E-05 \t 1.2782E-04 \t 5.0508E-04\n"
     ]
    },
    {
     "name": "stderr",
     "output_type": "stream",
     "text": [
      " 93%|█████████▎| 93005/100000 [1:07:29<05:50, 19.94it/s]"
     ]
    },
    {
     "name": "stdout",
     "output_type": "stream",
     "text": [
      "93000 \t 7.8649E-10 \t 2.9061E-05 \t 6.0208E-07 \t 9.7409E-05 \t 1.2707E-04 \t 5.0523E-04\n"
     ]
    },
    {
     "name": "stderr",
     "output_type": "stream",
     "text": [
      " 94%|█████████▍| 94004/100000 [1:08:12<04:05, 24.43it/s]"
     ]
    },
    {
     "name": "stdout",
     "output_type": "stream",
     "text": [
      "94000 \t 6.7617E-10 \t 2.9069E-05 \t 6.0279E-07 \t 9.7384E-05 \t 1.2706E-04 \t 5.0582E-04\n"
     ]
    },
    {
     "name": "stderr",
     "output_type": "stream",
     "text": [
      " 95%|█████████▌| 95003/100000 [1:08:51<03:22, 24.72it/s]"
     ]
    },
    {
     "name": "stdout",
     "output_type": "stream",
     "text": [
      "95000 \t 5.8132E-10 \t 2.9092E-05 \t 5.9774E-07 \t 9.7051E-05 \t 1.2674E-04 \t 5.0576E-04\n"
     ]
    },
    {
     "name": "stderr",
     "output_type": "stream",
     "text": [
      " 96%|█████████▌| 96002/100000 [1:09:35<03:03, 21.76it/s]"
     ]
    },
    {
     "name": "stdout",
     "output_type": "stream",
     "text": [
      "96000 \t 4.9978E-10 \t 2.9107E-05 \t 6.2037E-07 \t 9.8094E-05 \t 1.2782E-04 \t 5.0593E-04\n"
     ]
    },
    {
     "name": "stderr",
     "output_type": "stream",
     "text": [
      " 97%|█████████▋| 97003/100000 [1:10:20<02:15, 22.08it/s]"
     ]
    },
    {
     "name": "stdout",
     "output_type": "stream",
     "text": [
      "97000 \t 4.2968E-10 \t 2.9112E-05 \t 5.9011E-07 \t 9.8083E-05 \t 1.2779E-04 \t 5.0597E-04\n"
     ]
    },
    {
     "name": "stderr",
     "output_type": "stream",
     "text": [
      " 98%|█████████▊| 98004/100000 [1:11:05<01:30, 22.09it/s]"
     ]
    },
    {
     "name": "stdout",
     "output_type": "stream",
     "text": [
      "98000 \t 3.6941E-10 \t 2.9103E-05 \t 5.9592E-07 \t 9.7715E-05 \t 1.2741E-04 \t 5.0672E-04\n"
     ]
    },
    {
     "name": "stderr",
     "output_type": "stream",
     "text": [
      " 99%|█████████▉| 99003/100000 [1:11:47<00:38, 26.00it/s]"
     ]
    },
    {
     "name": "stdout",
     "output_type": "stream",
     "text": [
      "99000 \t 3.1759E-10 \t 2.9099E-05 \t 6.0139E-07 \t 9.9470E-05 \t 1.2917E-04 \t 5.0678E-04\n"
     ]
    },
    {
     "name": "stderr",
     "output_type": "stream",
     "text": [
      "100%|██████████| 100000/100000 [1:12:27<00:00, 23.00it/s]"
     ]
    },
    {
     "name": "stdout",
     "output_type": "stream",
     "text": [
      "Completed!!\n"
     ]
    },
    {
     "name": "stderr",
     "output_type": "stream",
     "text": [
      "\n"
     ]
    }
   ],
   "source": [
    "#****** Training ******#\n",
    "\n",
    "print(\"Training Physics Informed Neural Network...\")\n",
    "\n",
    "Epoch = []\n",
    "Learning_Rate = []\n",
    "IC_Loss = []\n",
    "BC_Loss = []\n",
    "PDE_Loss = []\n",
    "Total_Loss = []\n",
    "Test_Loss = []\n",
    "\n",
    "for i in tqdm(range(EPOCHS)):\n",
    "    if i==0:\n",
    "        print(\"Epoch \\t Learning_Rate \\t IC_Loss \\t BC_Loss \\t PDE_Loss \\t Total_Loss \\t Test_Loss\")\n",
    "    l_ic=PINN.loss_ic(X_u_train_i,u_train_i)    \n",
    "    l_bc = PINN.loss_bc(X_u_train_b,u_train_b)\n",
    "    #l_inner = PINN.loss_inner(X_)\n",
    "    l_pde = PINN.loss_pde(X_f_train)\n",
    "\n",
    "    loss = PINN.total_loss(X_u_train_i,u_train_i,X_u_train_b,u_train_b,X_f_train)\n",
    "    \n",
    "    optimizer.zero_grad()\n",
    "    \n",
    "    loss.backward()\n",
    "    \n",
    "    optimizer.step()\n",
    "    \n",
    "    if i%100 == 0: #print losses and step the exponential learning rate.\n",
    "                \n",
    "        with torch.no_grad():\n",
    "            test_loss = PINN.loss_bc(X_star,u_star) \n",
    "            #Here we are using loss_bc method as a helper function to calculate L2 loss\n",
    "            \n",
    "            Epoch.append(i)\n",
    "            Learning_Rate.append(scheduler.get_last_lr()[0])\n",
    "            IC_Loss.append(l_ic.detach().cpu().numpy())\n",
    "            BC_Loss.append(l_bc.detach().cpu().numpy())\n",
    "            PDE_Loss.append(l_pde.detach().cpu().numpy())\n",
    "            Total_Loss.append(loss.detach().cpu().numpy())\n",
    "            Test_Loss.append(test_loss.detach().cpu().numpy())\n",
    "\n",
    "            if i%1000 ==0:\n",
    "               print(i,'\\t',format(scheduler.get_last_lr()[0],\".4E\"),'\\t',format(l_ic.detach().cpu().numpy(),\".4E\"),'\\t',format(l_bc.detach().cpu().numpy(),\".4E\"),'\\t',\n",
    "                  format(l_pde.detach().cpu().numpy(),\".4E\"),'\\t',format(loss.detach().cpu().numpy(),\".4E\"),'\\t',format(test_loss.detach().cpu().numpy(),\".4E\"))\n",
    " \n",
    "        scheduler.step()\n",
    "\n",
    "print(\"Completed!!\")"
   ]
  },
  {
   "cell_type": "code",
   "execution_count": 308,
   "metadata": {},
   "outputs": [
    {
     "data": {
      "text/plain": [
       "((25600, 2), (25600, 1), torch.Size([25600, 1]))"
      ]
     },
     "execution_count": 308,
     "metadata": {},
     "output_type": "execute_result"
    }
   ],
   "source": [
    "\n",
    "u_NN_predict = PINN(X_star)\n",
    "total_points_t,total_points_x=100,256\n",
    "X_star.shape,u_star.shape,u_NN_predict.shape\n"
   ]
  },
  {
   "cell_type": "code",
   "execution_count": 310,
   "metadata": {},
   "outputs": [
    {
     "name": "stderr",
     "output_type": "stream",
     "text": [
      "c:\\Users\\27169\\anaconda3\\envs\\my_first_env\\lib\\site-packages\\ipykernel_launcher.py:4: UserWarning: To copy construct from a tensor, it is recommended to use sourceTensor.clone().detach() or sourceTensor.clone().detach().requires_grad_(True), rather than torch.tensor(sourceTensor).\n",
      "  after removing the cwd from sys.path.\n"
     ]
    },
    {
     "data": {
      "text/plain": [
       "(torch.Size([256, 100]), torch.Size([100, 256]), (25600, 2))"
      ]
     },
     "execution_count": 310,
     "metadata": {},
     "output_type": "execute_result"
    }
   ],
   "source": [
    "#Reshapping y1 to be used in plot3d()\n",
    "\n",
    "u_NN_2D = u_NN_predict.reshape(shape=[total_points_t,total_points_x]).transpose(1,0).detach().cpu()\n",
    "Exact=torch.tensor(Exact).T\n",
    "assert u_NN_2D.shape == torch.Size([total_points_x, total_points_t]),f\"Expected [{total_points_x},{total_points_t}], got {u_NN_2D.shape}\"\n",
    "u_NN_2D.shape,Exact.shape,X_star.shape"
   ]
  },
  {
   "cell_type": "code",
   "execution_count": 346,
   "metadata": {},
   "outputs": [
    {
     "name": "stdout",
     "output_type": "stream",
     "text": [
      "The RMSE error between Exact and PINN is : 0.02251\n"
     ]
    },
    {
     "data": {
      "text/plain": [
       "0.4544993173586258"
      ]
     },
     "execution_count": 346,
     "metadata": {},
     "output_type": "execute_result"
    }
   ],
   "source": [
    "\n",
    "\n",
    "RMSE = torch.sqrt(torch.mean(torch.square(torch.subtract(u_NN_2D,Exact.T))))\n",
    "\n",
    "print(\"The RMSE error between Exact and PINN is :\",np.around(RMSE.item(),5))\n",
    "torch.max(torch.abs(u_NN_2D-Exact.T)).item()\n",
    "\n",
    "\n"
   ]
  },
  {
   "cell_type": "code",
   "execution_count": 315,
   "metadata": {},
   "outputs": [
    {
     "data": {
      "image/png": "[encoded data removed]",
      "text/plain": [
       "<Figure size 1100x700 with 2 Axes>"
      ]
     },
     "metadata": {
      "needs_background": "light"
     },
     "output_type": "display_data"
    },
    {
     "data": {
      "text/plain": [
       "<Figure size 432x288 with 0 Axes>"
      ]
     },
     "metadata": {},
     "output_type": "display_data"
    }
   ],
   "source": [
    "file_name_loss = \"LOSS_CURVES_RMSE_\"+str(np.around(RMSE.item(),5))+\"_Epochs_\"+str(EPOCHS)+\"_lr_\"+str(initial_lr)+\".png\"\n",
    "fig, ax1 = plt.subplots(figsize=(11, 7), dpi= 100)\n",
    "ax2 = ax1.twinx()\n",
    "ax1.plot(Epoch, IC_Loss, \"b-\",label = \"IC Loss\")\n",
    "ax1.plot(Epoch, BC_Loss, \"g-\",label = \"BC Loss\")\n",
    "ax1.plot(Epoch, PDE_Loss, \"c-\",label = \"PDE Loss\")\n",
    "ax1.plot(Epoch, Total_Loss, \"k-\",label = \"Total Loss\")\n",
    "ax1.plot(Epoch, Test_Loss, \"m-\",label = \"Test Loss\")\n",
    "ax2.plot(Epoch,Learning_Rate, \"ro\",markersize=1,label = \"Learning Rate\")\n",
    "ax1.set_xlabel('Epochs')\n",
    "ax1.set_ylabel('Losses', color='k')\n",
    "ax2.set_ylabel('Learning Rate', color='k')\n",
    "ax2.legend(loc=7)\n",
    "ax1.legend(loc=1)\n",
    "plt.title(file_name_loss)\n",
    "plt.show()\n",
    "plt.savefig('Loss')"
   ]
  },
  {
   "cell_type": "code",
   "execution_count": 328,
   "metadata": {},
   "outputs": [
    {
     "data": {
      "image/png": "[encoded data removed]",
      "text/plain": [
       "<Figure size 432x288 with 2 Axes>"
      ]
     },
     "metadata": {
      "needs_background": "light"
     },
     "output_type": "display_data"
    },
    {
     "data": {
      "image/png": "[encoded data removed]",
      "text/plain": [
       "<Figure size 432x288 with 1 Axes>"
      ]
     },
     "metadata": {
      "needs_background": "light"
     },
     "output_type": "display_data"
    },
    {
     "data": {
      "text/plain": [
       "(torch.Size([256, 1]), torch.Size([100, 1]))"
      ]
     },
     "execution_count": 328,
     "metadata": {},
     "output_type": "execute_result"
    }
   ],
   "source": [
    "x = torch.linspace(-1, 1, total_points_x).view(-1,1)\n",
    "t = torch.linspace(0, 1, total_points_t).view(-1,1)\n",
    "\n",
    "plot3D(x,t,u_NN_2D)\n",
    "x.shape, t.shape\n"
   ]
  },
  {
   "cell_type": "code",
   "execution_count": 331,
   "metadata": {},
   "outputs": [
    {
     "data": {
      "image/png": "[encoded data removed]",
      "text/plain": [
       "<Figure size 432x288 with 2 Axes>"
      ]
     },
     "metadata": {
      "needs_background": "light"
     },
     "output_type": "display_data"
    },
    {
     "data": {
      "image/png": "[encoded data removed]",
      "text/plain": [
       "<Figure size 432x288 with 1 Axes>"
      ]
     },
     "metadata": {
      "needs_background": "light"
     },
     "output_type": "display_data"
    }
   ],
   "source": [
    "\n",
    "\n",
    "plot3D(x,t,(u_NN_2D - Exact.T)) #Error\n",
    "\n"
   ]
  },
  {
   "cell_type": "code",
   "execution_count": 307,
   "metadata": {},
   "outputs": [
    {
     "data": {
      "text/plain": [
       "(torch.Size([256, 100]),\n",
       " torch.Size([100, 256]),\n",
       " torch.Size([256, 1]),\n",
       " torch.Size([100, 1]),\n",
       " (100, 2))"
      ]
     },
     "execution_count": 307,
     "metadata": {},
     "output_type": "execute_result"
    }
   ],
   "source": [
    "\n",
    "u_NN_2D.shape,Exact.shape,x.shape, t.shape,X_u_train.shape\n"
   ]
  },
  {
   "cell_type": "code",
   "execution_count": 332,
   "metadata": {},
   "outputs": [
    {
     "data": {
      "image/png": "[encoded data removed]",
      "text/plain": [
       "<Figure size 648x360 with 2 Axes>"
      ]
     },
     "metadata": {
      "needs_background": "light"
     },
     "output_type": "display_data"
    }
   ],
   "source": [
    "# 假设 U_pred, X_u_train, u_train, t, x, Exact 已经定义\n",
    "fig = plt.figure(figsize=(9, 5))\n",
    "ax = fig.add_subplot(111)\n",
    "\n",
    "# 使用 imshow 函数绘制 U_pred 的转置矩阵\n",
    "h = ax.imshow(u_NN_2D, interpolation='nearest', cmap='rainbow',\n",
    "              extent=[t.min(), t.max(), x.min(), x.max()],\n",
    "              origin='lower', aspect='auto')\n",
    "\n",
    "# 添加颜色条\n",
    "divider = make_axes_locatable(ax)\n",
    "cax = divider.append_axes(\"right\", size=\"5%\", pad=0.10)\n",
    "cbar = fig.colorbar(h, cax=cax)\n",
    "cbar.ax.tick_params(labelsize=15)\n",
    "\n",
    "# 绘制数据点\n",
    "ax.plot(\n",
    "    X_u_train[:, 1],\n",
    "    X_u_train[:, 0],\n",
    "    'kx', label='Data (%d points)' % (u_train.shape[0]),\n",
    "    markersize=4,\n",
    "    clip_on=False,\n",
    "    alpha=1.0\n",
    ")\n",
    "\n",
    "# 绘制特定时间切片的垂直线\n",
    "line = np.linspace(x.min(), x.max(), 2)[:, None]\n",
    "ax.plot(t[25]*np.ones((2, 1)), line, 'w-', linewidth=1)\n",
    "ax.plot(t[50]*np.ones((2, 1)), line, 'w-', linewidth=1)\n",
    "ax.plot(t[75]*np.ones((2, 1)), line, 'w-', linewidth=1)\n",
    "\n",
    "# 设置坐标轴标签、图例和标题\n",
    "ax.set_xlabel('$t$', size=20)\n",
    "ax.set_ylabel('$x$', size=20)\n",
    "ax.legend(\n",
    "    loc='upper center',\n",
    "    bbox_to_anchor=(0.9, -0.05),\n",
    "    ncol=5,\n",
    "    frameon=False,\n",
    "    prop={'size': 15}\n",
    ")\n",
    "ax.set_title('$u(t, x)$', fontsize=20)\n",
    "ax.tick_params(labelsize=15)\n",
    "\n",
    "# 保存并显示图像\n",
    "plt.savefig('burgers_solution.png')\n",
    "plt.show()"
   ]
  },
  {
   "cell_type": "code",
   "execution_count": null,
   "metadata": {},
   "outputs": [
    {
     "data": {
      "image/png": "[encoded data removed]",
      "text/plain": [
       "<Figure size 1008x720 with 3 Axes>"
      ]
     },
     "metadata": {
      "needs_background": "light"
     },
     "output_type": "display_data"
    }
   ],
   "source": [
    "fig = plt.figure(figsize=(14, 10))\n",
    "\n",
    "# 创建网格布局\n",
    "gs1 = gridspec.GridSpec(1, 3)\n",
    "gs1.update(top=1-1.0/3.0-0.1, bottom=1.0-2.0/3.0, left=0.1, right=0.9, wspace=0.5)\n",
    "\n",
    "# 绘制 t = 0.25 时刻的精确解与预测结果\n",
    "ax = plt.subplot(gs1[0, 0])\n",
    "ax.plot(x, Exact[25, :], 'b-', linewidth=2, label='Exact')\n",
    "ax.plot(x, u_NN_2D.T[25, :], 'r--', linewidth=2, label='Prediction')\n",
    "ax.set_xlabel('$x$')\n",
    "ax.set_ylabel('$u(t, x)$')\n",
    "ax.set_title('$t = 0.25$', fontsize=15)\n",
    "ax.axis('square')\n",
    "ax.set_xlim([-1.1, 1.1])\n",
    "ax.set_ylim([-1.1, 1.1])\n",
    "\n",
    "# 设置字体大小\n",
    "for item in ([ax.title, ax.xaxis.label, ax.yaxis.label] +\n",
    "             ax.get_xticklabels() + ax.get_yticklabels()):\n",
    "    item.set_fontsize(15)\n",
    "\n",
    "# 绘制 t = 0.50 时刻的精确解与预测结果\n",
    "ax = plt.subplot(gs1[0, 1])\n",
    "ax.plot(x, Exact[50, :], 'b-', linewidth=2, label='Exact')\n",
    "ax.plot(x, u_NN_2D.T[50, :], 'r--', linewidth=2, label='Prediction')\n",
    "ax.set_xlabel('$x$')\n",
    "ax.set_ylabel('$u(t, x)$')\n",
    "ax.axis('square')\n",
    "ax.set_xlim([-1.1, 1.1])\n",
    "ax.set_ylim([-1.1, 1.1])\n",
    "ax.set_title('$t = 0.50$', fontsize=15)\n",
    "ax.legend(\n",
    "    loc='upper center',\n",
    "    bbox_to_anchor=(0.5, -0.15),\n",
    "    ncol=5,\n",
    "    frameon=False,\n",
    "    prop={'size': 15}\n",
    ")\n",
    "\n",
    "# 设置字体大小\n",
    "for item in ([ax.title, ax.xaxis.label, ax.yaxis.label] +\n",
    "             ax.get_xticklabels() + ax.get_yticklabels()):\n",
    "    item.set_fontsize(15)\n",
    "\n",
    "# 绘制 t = 0.75 时刻的精确解与预测结果\n",
    "ax = plt.subplot(gs1[0, 2])\n",
    "ax.plot(x, Exact[75, :], 'b-', linewidth=2, label='Exact')\n",
    "ax.plot(x, u_NN_2D.T[75, :], 'r--', linewidth=2, label='Prediction')\n",
    "ax.set_xlabel('$x$')\n",
    "ax.set_ylabel('$u(t, x)$')\n",
    "ax.axis('square')\n",
    "ax.set_xlim([-1.1, 1.1])\n",
    "ax.set_ylim([-1.1, 1.1])\n",
    "ax.set_title('$t = 0.75$', fontsize=15)\n",
    "\n",
    "# 设置字体大小\n",
    "for item in ([ax.title, ax.xaxis.label, ax.yaxis.label] +\n",
    "             ax.get_xticklabels() + ax.get_yticklabels()):\n",
    "    item.set_fontsize(15)\n",
    "\n",
    "# 保存并显示图像\n",
    "plt.savefig('burgers_slices.png')\n",
    "plt.show()"
   ]
  }
 ],
 "metadata": {
  "kernelspec": {
   "display_name": "my_first_env",
   "language": "python",
   "name": "python3"
  },
  "language_info": {
   "codemirror_mode": {
    "name": "ipython",
    "version": 3
   },
   "file_extension": ".py",
   "mimetype": "text/x-python",
   "name": "python",
   "nbconvert_exporter": "python",
   "pygments_lexer": "ipython3",
   "version": "3.6.13"
  }
 },
 "nbformat": 4,
 "nbformat_minor": 2
}
